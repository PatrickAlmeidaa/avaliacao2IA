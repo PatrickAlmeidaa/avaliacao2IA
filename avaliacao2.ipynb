{
 "cells": [
  {
   "cell_type": "code",
   "execution_count": 45,
   "id": "f2d88303",
   "metadata": {},
   "outputs": [],
   "source": [
    "import pandas as pd\n",
    "import numpy as np\n",
    "from sklearn.linear_model import LinearRegression\n",
    "from sklearn.metrics import r2_score"
   ]
  },
  {
   "cell_type": "code",
   "execution_count": 46,
   "id": "ba4af42d",
   "metadata": {},
   "outputs": [],
   "source": [
    "falencia_teste = pd.read_csv('falencia-teste.csv', header=0, delimiter=';')\n",
    "falencia_treinamento = pd.read_csv('falencia-treinamento.csv', delimiter=';')\n",
    "modelo_submissao = pd.read_csv('modelo-submissao.csv', header=0, delimiter=';')"
   ]
  },
  {
   "cell_type": "code",
   "execution_count": 47,
   "id": "54bcfcea",
   "metadata": {},
   "outputs": [],
   "source": [
    "#falencia_trinamento.head(10)\n",
    "\n",
    "X = falencia_treinamento.values[:,0].reshape(-1,1) # Conjunto de atributos\n",
    "\n",
    "y = falencia_treinamento.values[:,-1].reshape(-1,1) # Rotulo utilizado para regressao"
   ]
  },
  {
   "cell_type": "code",
   "execution_count": 48,
   "id": "5e942e77",
   "metadata": {},
   "outputs": [
    {
     "data": {
      "text/plain": [
       "LinearRegression()"
      ]
     },
     "execution_count": 48,
     "metadata": {},
     "output_type": "execute_result"
    }
   ],
   "source": [
    "modelo = LinearRegression()\n",
    "modelo.fit(X, y)"
   ]
  },
  {
   "cell_type": "code",
   "execution_count": 50,
   "id": "825c91a4",
   "metadata": {},
   "outputs": [],
   "source": [
    "y_pred = modelo.predict(X)"
   ]
  },
  {
   "cell_type": "code",
   "execution_count": 51,
   "id": "52589859",
   "metadata": {},
   "outputs": [],
   "source": [
    "r_squared = r2_score(y, y_pred)"
   ]
  },
  {
   "cell_type": "code",
   "execution_count": 53,
   "id": "99bc5f41",
   "metadata": {},
   "outputs": [
    {
     "name": "stdout",
     "output_type": "stream",
     "text": [
      "Coeficiente de determinação: 0.0001\n",
      "Intercept: 0.3008\n",
      "Slope: 0.0000\n"
     ]
    }
   ],
   "source": [
    "print(\"Coeficiente de determinação: %.4f\" % modelo.score(X, y))\n",
    "\n",
    "print(\"Intercept: %.4f\" % modelo.intercept_)\n",
    "\n",
    "# Slope\n",
    "print('Slope: %.4f' % modelo.coef_)"
   ]
  }
 ],
 "metadata": {
  "kernelspec": {
   "display_name": "Python 3 (ipykernel)",
   "language": "python",
   "name": "python3"
  },
  "language_info": {
   "codemirror_mode": {
    "name": "ipython",
    "version": 3
   },
   "file_extension": ".py",
   "mimetype": "text/x-python",
   "name": "python",
   "nbconvert_exporter": "python",
   "pygments_lexer": "ipython3",
   "version": "3.9.13"
  }
 },
 "nbformat": 4,
 "nbformat_minor": 5
}
