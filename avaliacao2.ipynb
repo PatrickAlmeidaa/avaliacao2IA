{
 "cells": [
  {
   "cell_type": "code",
   "execution_count": 246,
   "id": "f2d88303",
   "metadata": {},
   "outputs": [],
   "source": [
    "import pandas as pd\n",
    "from sklearn.model_selection import train_test_split\n",
    "from sklearn.linear_model import LogisticRegression\n",
    "from sklearn.metrics import accuracy_score"
   ]
  },
  {
   "cell_type": "code",
   "execution_count": 247,
   "id": "ba4af42d",
   "metadata": {},
   "outputs": [],
   "source": [
    "data = pd.read_csv('falencia-treinamento.csv', delimiter=';')"
   ]
  },
  {
   "cell_type": "code",
   "execution_count": 248,
   "id": "54bcfcea",
   "metadata": {},
   "outputs": [],
   "source": [
    "X_train, X_test, y_train, y_test = train_test_split(data.drop('Resultado', axis=1), data['Resultado'], test_size=0.2, random_state=42)"
   ]
  },
  {
   "cell_type": "code",
   "execution_count": 249,
   "id": "5e942e77",
   "metadata": {},
   "outputs": [
    {
     "data": {
      "text/plain": [
       "LogisticRegression(max_iter=500)"
      ]
     },
     "execution_count": 249,
     "metadata": {},
     "output_type": "execute_result"
    }
   ],
   "source": [
    "logistic_model = LogisticRegression(max_iter=500)\n",
    "logistic_model.fit(X_train, y_train)"
   ]
  },
  {
   "cell_type": "code",
   "execution_count": 250,
   "id": "825c91a4",
   "metadata": {},
   "outputs": [],
   "source": [
    "y_pred = logistic_model.predict(X_test)"
   ]
  },
  {
   "cell_type": "code",
   "execution_count": 252,
   "id": "eff5048a",
   "metadata": {},
   "outputs": [
    {
     "name": "stdout",
     "output_type": "stream",
     "text": [
      "A acurácia do modelo de regressão logística é de 0.7375\n"
     ]
    }
   ],
   "source": [
    "# Calcula a acurácia do modelo nos dados de teste extraído dos de treinamento\n",
    "accuracy = accuracy_score(y_test, y_pred)\n",
    "print(f'A acurácia do modelo de regressão logística é de {accuracy}')"
   ]
  },
  {
   "cell_type": "code",
   "execution_count": null,
   "id": "7cc592be",
   "metadata": {},
   "outputs": [],
   "source": []
  }
 ],
 "metadata": {
  "kernelspec": {
   "display_name": "Python 3 (ipykernel)",
   "language": "python",
   "name": "python3"
  },
  "language_info": {
   "codemirror_mode": {
    "name": "ipython",
    "version": 3
   },
   "file_extension": ".py",
   "mimetype": "text/x-python",
   "name": "python",
   "nbconvert_exporter": "python",
   "pygments_lexer": "ipython3",
   "version": "3.9.13"
  }
 },
 "nbformat": 4,
 "nbformat_minor": 5
}
