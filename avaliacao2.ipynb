{
 "cells": [
  {
   "cell_type": "code",
   "execution_count": 1,
   "id": "f2d88303",
   "metadata": {},
   "outputs": [],
   "source": [
    "import pandas as pd\n",
    "import numpy as np\n",
    "import sklearn"
   ]
  },
  {
   "cell_type": "code",
   "execution_count": 2,
   "id": "ba4af42d",
   "metadata": {},
   "outputs": [],
   "source": [
    "falencia_teste = pd.read_csv('falencia-teste.csv')\n",
    "falencia_trinamento = pd.read_csv('falencia-treinamento.csv')\n",
    "modelo_submissao = pd.read_csv('modelo-submissao.csv')"
   ]
  },
  {
   "cell_type": "code",
   "execution_count": 3,
   "id": "54bcfcea",
   "metadata": {},
   "outputs": [
    {
     "data": {
      "text/html": [
       "<div>\n",
       "<style scoped>\n",
       "    .dataframe tbody tr th:only-of-type {\n",
       "        vertical-align: middle;\n",
       "    }\n",
       "\n",
       "    .dataframe tbody tr th {\n",
       "        vertical-align: top;\n",
       "    }\n",
       "\n",
       "    .dataframe thead th {\n",
       "        text-align: right;\n",
       "    }\n",
       "</style>\n",
       "<table border=\"1\" class=\"dataframe\">\n",
       "  <thead>\n",
       "    <tr style=\"text-align: right;\">\n",
       "      <th></th>\n",
       "      <th>;I1;I2;I3;I4;I5;I6;I7;I8;I9;I10;M1;M2;M3;M4;M5;M6;M7;M8;M9;M10</th>\n",
       "    </tr>\n",
       "  </thead>\n",
       "  <tbody>\n",
       "    <tr>\n",
       "      <th>0</th>\n",
       "      <td>0;2.89;3.56;4.31;5.26;2.86;5.26;2.38;3.04;5.84...</td>\n",
       "    </tr>\n",
       "    <tr>\n",
       "      <th>1</th>\n",
       "      <td>1;7.08;5.88;2.81;6.71;4.02;6.71;6.85;3.47;6.96...</td>\n",
       "    </tr>\n",
       "    <tr>\n",
       "      <th>2</th>\n",
       "      <td>2;4.09;3.54;3.66;4.85;6.09;4.85;4.81;3.33;6.81...</td>\n",
       "    </tr>\n",
       "    <tr>\n",
       "      <th>3</th>\n",
       "      <td>3;9.36;3.32;5.93;4.94;3.01;4.94;7.08;4.68;3.62...</td>\n",
       "    </tr>\n",
       "    <tr>\n",
       "      <th>4</th>\n",
       "      <td>4;3.38;6.48;3.02;6.02;4.87;6.02;5.70;4.48;6.70...</td>\n",
       "    </tr>\n",
       "    <tr>\n",
       "      <th>...</th>\n",
       "      <td>...</td>\n",
       "    </tr>\n",
       "    <tr>\n",
       "      <th>95</th>\n",
       "      <td>95;1.23;5.76;5.96;2.39;4.04;2.39;1.76;7.16;3.7...</td>\n",
       "    </tr>\n",
       "    <tr>\n",
       "      <th>96</th>\n",
       "      <td>96;5.29;3.90;5.25;5.35;3.33;5.35;4.68;4.47;4.3...</td>\n",
       "    </tr>\n",
       "    <tr>\n",
       "      <th>97</th>\n",
       "      <td>97;3.56;5.74;3.33;5.93;7.00;5.93;5.02;4.89;6.3...</td>\n",
       "    </tr>\n",
       "    <tr>\n",
       "      <th>98</th>\n",
       "      <td>98;4.64;3.70;4.33;5.00;7.68;5.00;6.13;4.66;5.6...</td>\n",
       "    </tr>\n",
       "    <tr>\n",
       "      <th>99</th>\n",
       "      <td>99;6.68;6.70;2.68;6.77;5.22;6.77;6.03;4.34;6.8...</td>\n",
       "    </tr>\n",
       "  </tbody>\n",
       "</table>\n",
       "<p>100 rows × 1 columns</p>\n",
       "</div>"
      ],
      "text/plain": [
       "   ;I1;I2;I3;I4;I5;I6;I7;I8;I9;I10;M1;M2;M3;M4;M5;M6;M7;M8;M9;M10\n",
       "0   0;2.89;3.56;4.31;5.26;2.86;5.26;2.38;3.04;5.84...            \n",
       "1   1;7.08;5.88;2.81;6.71;4.02;6.71;6.85;3.47;6.96...            \n",
       "2   2;4.09;3.54;3.66;4.85;6.09;4.85;4.81;3.33;6.81...            \n",
       "3   3;9.36;3.32;5.93;4.94;3.01;4.94;7.08;4.68;3.62...            \n",
       "4   4;3.38;6.48;3.02;6.02;4.87;6.02;5.70;4.48;6.70...            \n",
       "..                                                ...            \n",
       "95  95;1.23;5.76;5.96;2.39;4.04;2.39;1.76;7.16;3.7...            \n",
       "96  96;5.29;3.90;5.25;5.35;3.33;5.35;4.68;4.47;4.3...            \n",
       "97  97;3.56;5.74;3.33;5.93;7.00;5.93;5.02;4.89;6.3...            \n",
       "98  98;4.64;3.70;4.33;5.00;7.68;5.00;6.13;4.66;5.6...            \n",
       "99  99;6.68;6.70;2.68;6.77;5.22;6.77;6.03;4.34;6.8...            \n",
       "\n",
       "[100 rows x 1 columns]"
      ]
     },
     "execution_count": 3,
     "metadata": {},
     "output_type": "execute_result"
    }
   ],
   "source": [
    "falencia_teste"
   ]
  },
  {
   "cell_type": "code",
   "execution_count": null,
   "id": "5e942e77",
   "metadata": {},
   "outputs": [],
   "source": []
  }
 ],
 "metadata": {
  "kernelspec": {
   "display_name": "Python 3 (ipykernel)",
   "language": "python",
   "name": "python3"
  },
  "language_info": {
   "codemirror_mode": {
    "name": "ipython",
    "version": 3
   },
   "file_extension": ".py",
   "mimetype": "text/x-python",
   "name": "python",
   "nbconvert_exporter": "python",
   "pygments_lexer": "ipython3",
   "version": "3.9.13"
  }
 },
 "nbformat": 4,
 "nbformat_minor": 5
}
