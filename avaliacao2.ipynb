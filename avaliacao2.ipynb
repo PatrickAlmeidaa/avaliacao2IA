{
 "cells": [
  {
   "cell_type": "markdown",
   "id": "3d40e6ed",
   "metadata": {},
   "source": [
    "# Import das bibliotecas"
   ]
  },
  {
   "cell_type": "code",
   "execution_count": 310,
   "id": "f2d88303",
   "metadata": {},
   "outputs": [],
   "source": [
    "import pandas as pd\n",
    "from sklearn.model_selection import train_test_split\n",
    "from sklearn.metrics import accuracy_score\n",
    "from sklearn.metrics import f1_score\n",
    "from sklearn.linear_model import LogisticRegression\n",
    "from sklearn.tree import DecisionTreeClassifier\n",
    "from sklearn.ensemble import RandomForestClassifier\n",
    "from sklearn.metrics import accuracy_score\n",
    "import matplotlib.pyplot as plt\n",
    "import numpy as np\n",
    "from imblearn.over_sampling import SMOTE\n",
    "from sklearn.feature_selection import SelectKBest\n",
    "from sklearn.feature_selection import chi2"
   ]
  },
  {
   "cell_type": "markdown",
   "id": "499c7621",
   "metadata": {},
   "source": [
    "# Leitura dos dados"
   ]
  },
  {
   "cell_type": "code",
   "execution_count": 311,
   "id": "ba4af42d",
   "metadata": {},
   "outputs": [],
   "source": [
    "data_training = pd.read_csv('falencia-treinamento.csv', delimiter=';')\n",
    "data_test = pd.read_csv('falencia-teste.csv', delimiter=';')\n",
    "data_result = pd.read_csv('modelo-submissao.csv', delimiter=';')"
   ]
  },
  {
   "cell_type": "markdown",
   "id": "5db3e23a",
   "metadata": {},
   "source": [
    "# Divisão do conjunto de dados"
   ]
  },
  {
   "cell_type": "code",
   "execution_count": 312,
   "id": "54bcfcea",
   "metadata": {},
   "outputs": [],
   "source": [
    "# Divisão do conjunto de dados falencia-treinamento em dados de treinamento e dados de teste. Divisão de 70% treinamento e 30% testes\n",
    "X_train, X_test, y_train, y_test = train_test_split(data_training.drop('Resultado', axis=1), data_training['Resultado'], test_size=0.3, random_state=42)"
   ]
  },
  {
   "cell_type": "markdown",
   "id": "f2ae7c92",
   "metadata": {},
   "source": [
    "# Técnica Smote"
   ]
  },
  {
   "cell_type": "code",
   "execution_count": 319,
   "id": "ed39f906",
   "metadata": {},
   "outputs": [],
   "source": [
    "# Técnica SMOTE para aplicar o Oversampling (criação de cópias da classe minoritária para que as classes fiquem equilibradas)\n",
    "smote = SMOTE(sampling_strategy='minority')\n",
    "X_train_resampled, y_train_resampled = smote.fit_resample(X_train, y_train)"
   ]
  },
  {
   "cell_type": "markdown",
   "id": "8a4869c4",
   "metadata": {},
   "source": [
    "# Seleção Univariada"
   ]
  },
  {
   "cell_type": "code",
   "execution_count": 321,
   "id": "71b9bb84",
   "metadata": {},
   "outputs": [],
   "source": [
    "selector = SelectKBest(chi2, k=15)\n",
    "X_new = selector.fit_transform(X_train_resampled, y_train_resampled)\n",
    "\n",
    "# Obtém os índices dos recursos selecionados\n",
    "selected_features = selector.get_support()\n",
    "\n",
    "# Obtém os nomes dos recursos selecionados\n",
    "selected_feature_names = X_train.columns[selected_features]\n",
    "\n",
    "# Substitui as variáveis X_train e X_test pelos recursos selecionados\n",
    "X_train_selected = X_train[selected_feature_names]\n",
    "X_test_selected = X_test[selected_feature_names]"
   ]
  },
  {
   "cell_type": "markdown",
   "id": "3a50ef0f",
   "metadata": {},
   "source": [
    "# Regressão Logística"
   ]
  },
  {
   "cell_type": "code",
   "execution_count": 322,
   "id": "5e942e77",
   "metadata": {},
   "outputs": [],
   "source": [
    "def logistic_regression():\n",
    "    # Cria um modelo de regressão logística\n",
    "    logistic_model = LogisticRegression(max_iter=500)\n",
    "    \n",
    "    # Ajusta o modelo aos dados de treinamento\n",
    "    logistic_model.fit(X_train_selected, y_train)\n",
    "    \n",
    "    # Faz previsões nos dados de teste\n",
    "    y_pred_lr = logistic_model.predict(X_test_selected)\n",
    "\n",
    "    # Calcula a acurácia do modelo nos dados de teste extraído dos de treinamento\n",
    "    accuracy = accuracy_score(y_test, y_pred_lr)\n",
    "    f_measure = f1_score(y_test, y_pred_lr)\n",
    "\n",
    "    # Exibe os resultados\n",
    "    print(\"Regressão Logística\")\n",
    "    print(f\"Acurácia: {accuracy}\")\n",
    "    print(f\"F-measure: {f_measure}\")"
   ]
  },
  {
   "cell_type": "markdown",
   "id": "89d23712",
   "metadata": {},
   "source": [
    "# Árvore de Decisão"
   ]
  },
  {
   "cell_type": "code",
   "execution_count": 323,
   "id": "97dab29e",
   "metadata": {},
   "outputs": [],
   "source": [
    "def decision_tree():\n",
    "    # Cria um modelo de árvore de decisão com profundidade máxima de 3\n",
    "    tree_model = DecisionTreeClassifier(max_depth=3)\n",
    "\n",
    "    # Ajusta o modelo aos dados de treinamento\n",
    "    tree_model.fit(X_train_selected, y_train)\n",
    "\n",
    "    # Faz previsões nos dados de teste\n",
    "    y_pred_dt = tree_model.predict(X_test_selected)\n",
    "\n",
    "    # Calcula a acurácia e f-measure do modelo nos dados de teste\n",
    "    accuracy = accuracy_score(y_test, y_pred_dt)\n",
    "    f_measure = f1_score(y_test, y_pred_dt)\n",
    "\n",
    "    # Exibe os resultados\n",
    "    print('\\nÁrvore de Decisão')\n",
    "    print(f\"Acurácia: {accuracy}\")\n",
    "    print(f\"F-measure: {f_measure}\")"
   ]
  },
  {
   "cell_type": "markdown",
   "id": "8769ba1a",
   "metadata": {},
   "source": [
    "# Random Forest"
   ]
  },
  {
   "cell_type": "code",
   "execution_count": 324,
   "id": "851445b5",
   "metadata": {},
   "outputs": [],
   "source": [
    "def random_forest():\n",
    "    # Cria um modelo de Random Forest com 100 árvores de decisão\n",
    "    rf_model = RandomForestClassifier(n_estimators=100)\n",
    "\n",
    "    # Ajusta o modelo aos dados de treinamento\n",
    "    rf_model.fit(X_train_selected, y_train)\n",
    "\n",
    "    # Faz previsões nos dados de teste\n",
    "    y_pred_rf = rf_model.predict(X_test_selected)\n",
    "\n",
    "    # Calcula a acurácia e f-measure do modelo nos dados de teste\n",
    "    accuracy = accuracy_score(y_test, y_pred_rf)\n",
    "    f_measure = f1_score(y_test, y_pred_rf)\n",
    "\n",
    "    # Exibe os resultados\n",
    "    print('\\nRandom Forest')\n",
    "    print(f\"Acurácia: {accuracy}\")\n",
    "    print(f\"F-measure: {f_measure}\")"
   ]
  },
  {
   "cell_type": "markdown",
   "id": "e0b65fc6",
   "metadata": {},
   "source": [
    "# Resultados"
   ]
  },
  {
   "cell_type": "code",
   "execution_count": 325,
   "id": "c29b075d",
   "metadata": {},
   "outputs": [
    {
     "name": "stdout",
     "output_type": "stream",
     "text": [
      "Regressão Logística\n",
      "Acurácia: 0.75\n",
      "F-measure: 0.4642857142857143\n",
      "\n",
      "Árvore de Decisão\n",
      "Acurácia: 0.7833333333333333\n",
      "F-measure: 0.5666666666666667\n",
      "\n",
      "Random Forest\n",
      "Acurácia: 0.7916666666666666\n",
      "F-measure: 0.6376811594202899\n"
     ]
    }
   ],
   "source": [
    "logistic_regression()\n",
    "decision_tree()\n",
    "random_forest()"
   ]
  },
  {
   "cell_type": "markdown",
   "id": "e968b96b",
   "metadata": {},
   "source": [
    "# Comparação entre os modelos"
   ]
  },
  {
   "cell_type": "code",
   "execution_count": 309,
   "id": "6091bd8e",
   "metadata": {},
   "outputs": [
    {
     "data": {
      "image/png": "[encoded data removed]",
      "text/plain": [
       "<Figure size 640x480 with 1 Axes>"
      ]
     },
     "metadata": {},
     "output_type": "display_data"
    }
   ],
   "source": [
    "# definir os rótulos do eixo x e os valores do eixo y\n",
    "labels = ['Regressão Logística', 'Árvore de Decisão', 'Random Forest']\n",
    "accuracy_values = [accuracy_lr, accuracy_dt, accuracy_rf]\n",
    "f_measure_values = [f_measure_lr, f_measure_dt, f_measure_rf]\n",
    "\n",
    "# definir a largura das barras\n",
    "bar_width = 0.35\n",
    "\n",
    "# definir a posição das barras no eixo x\n",
    "x = np.arange(len(labels))\n",
    "\n",
    "# criar o gráfico de barras\n",
    "fig, ax = plt.subplots()\n",
    "rects1 = ax.bar(x - bar_width/2, accuracy_values, bar_width, label='Acurácia')\n",
    "rects2 = ax.bar(x + bar_width/2, f_measure_values, bar_width, label='F-measure')\n",
    "\n",
    "# adicionar rótulos, títulos e legendas ao gráfico\n",
    "ax.set_ylabel('Métrica')\n",
    "ax.set_title('Comparação de métricas entre modelos')\n",
    "ax.set_xticks(x)\n",
    "ax.set_xticklabels(labels)\n",
    "ax.legend()\n",
    "\n",
    "# exibir o gráfico\n",
    "plt.show()"
   ]
  },
  {
   "cell_type": "code",
   "execution_count": null,
   "id": "a306f66e",
   "metadata": {},
   "outputs": [],
   "source": []
  },
  {
   "cell_type": "code",
   "execution_count": null,
   "id": "2b03172f",
   "metadata": {},
   "outputs": [],
   "source": []
  },
  {
   "cell_type": "code",
   "execution_count": null,
   "id": "873f4329",
   "metadata": {},
   "outputs": [],
   "source": []
  }
 ],
 "metadata": {
  "kernelspec": {
   "display_name": "Python 3 (ipykernel)",
   "language": "python",
   "name": "python3"
  },
  "language_info": {
   "codemirror_mode": {
    "name": "ipython",
    "version": 3
   },
   "file_extension": ".py",
   "mimetype": "text/x-python",
   "name": "python",
   "nbconvert_exporter": "python",
   "pygments_lexer": "ipython3",
   "version": "3.9.13"
  }
 },
 "nbformat": 4,
 "nbformat_minor": 5
}
