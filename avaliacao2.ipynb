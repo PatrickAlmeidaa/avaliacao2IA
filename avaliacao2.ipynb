{
 "cells": [
  {
   "cell_type": "markdown",
   "id": "a1ef2448",
   "metadata": {},
   "source": [
    "# Import das bibliotecas"
   ]
  },
  {
   "cell_type": "code",
   "execution_count": 20,
   "id": "f2d88303",
   "metadata": {},
   "outputs": [],
   "source": [
    "import pandas as pd\n",
    "from sklearn.model_selection import train_test_split\n",
    "from sklearn.metrics import accuracy_score\n",
    "from sklearn.metrics import f1_score"
   ]
  },
  {
   "cell_type": "markdown",
   "id": "65ae1314",
   "metadata": {},
   "source": [
    "# Leitura dos dados"
   ]
  },
  {
   "cell_type": "code",
   "execution_count": 14,
   "id": "ba4af42d",
   "metadata": {},
   "outputs": [],
   "source": [
    "data_training = pd.read_csv('falencia-treinamento.csv', delimiter=';')\n",
    "data_test = pd.read_csv('falencia-teste.csv', delimiter=';')\n",
    "data_result = pd.read_csv('modelo-submissao.csv', delimiter=';')"
   ]
  },
  {
   "cell_type": "markdown",
   "id": "19126c08",
   "metadata": {},
   "source": [
    "# Pré-Processamento dos dados"
   ]
  },
  {
   "cell_type": "code",
   "execution_count": 15,
   "id": "54bcfcea",
   "metadata": {},
   "outputs": [],
   "source": [
    "X_train, X_test, y_train, y_test = train_test_split(data_training.drop('Resultado', axis=1), data_training['Resultado'], test_size=0.2, random_state=42)"
   ]
  },
  {
   "cell_type": "markdown",
   "id": "a16d3fa0",
   "metadata": {},
   "source": [
    "# Regressão Logística"
   ]
  },
  {
   "cell_type": "code",
   "execution_count": 16,
   "id": "5e942e77",
   "metadata": {},
   "outputs": [
    {
     "name": "stdout",
     "output_type": "stream",
     "text": [
      "A acurácia do modelo de regressão logística é de 0.7375\n"
     ]
    }
   ],
   "source": [
    "from sklearn.linear_model import LogisticRegression\n",
    "\n",
    "logistic_model = LogisticRegression(max_iter=500)\n",
    "logistic_model.fit(X_train, y_train)\n",
    "\n",
    "y_pred = logistic_model.predict(X_test)\n",
    "\n",
    "# Calcula a acurácia do modelo nos dados de teste extraído dos de treinamento\n",
    "accuracy = accuracy_score(y_test, y_pred)\n",
    "print(f'A acurácia do modelo de regressão logística é de {accuracy}')"
   ]
  },
  {
   "cell_type": "markdown",
   "id": "63f1ba51",
   "metadata": {},
   "source": [
    "# Árvore de Decisão"
   ]
  },
  {
   "cell_type": "code",
   "execution_count": 17,
   "id": "9bc7e1f2",
   "metadata": {},
   "outputs": [
    {
     "name": "stdout",
     "output_type": "stream",
     "text": [
      "A acurácia do modelo de árvore de decisão é de 0.725\n"
     ]
    }
   ],
   "source": [
    "from sklearn.tree import DecisionTreeClassifier\n",
    "\n",
    "# criar um modelo de árvore de decisão com profundidade máxima de 3\n",
    "tree_model = DecisionTreeClassifier(max_depth=3)\n",
    "\n",
    "# ajustar o modelo aos dados de treinamento\n",
    "tree_model.fit(X_train, y_train)\n",
    "\n",
    "# fazer previsões nos dados de teste\n",
    "y_pred = tree_model.predict(X_test)\n",
    "\n",
    "# calcular a acurácia e f-measure do modelo nos dados de teste\n",
    "accuracy = accuracy_score(y_test, y_pred)\n",
    "f_measure = f1_score(y_test, y_pred)\n",
    "\n",
    "# imprimir a acurácia\n",
    "print(f\"A acurácia do modelo de árvore de decisão é de {accuracy}\")\n",
    "print(f\"A F-measure do modelo de árvore de decisão é de {f_measure}\")"
   ]
  },
  {
   "cell_type": "markdown",
   "id": "9b9b2cac",
   "metadata": {},
   "source": [
    "# Random Forest"
   ]
  },
  {
   "cell_type": "code",
   "execution_count": 21,
   "id": "4d7efd9c",
   "metadata": {},
   "outputs": [
    {
     "name": "stdout",
     "output_type": "stream",
     "text": [
      "A acurácia do modelo de Random Forest é de 0.7625\n",
      "A F-measure do modelo de Random Forest é de 0.5777777777777778\n"
     ]
    }
   ],
   "source": [
    "from sklearn.ensemble import RandomForestClassifier\n",
    "from sklearn.metrics import accuracy_score\n",
    "\n",
    "# criar um modelo de Random Forest com 100 árvores de decisão\n",
    "rf_model = RandomForestClassifier(n_estimators=100)\n",
    "\n",
    "# ajustar o modelo aos dados de treinamento\n",
    "rf_model.fit(X_train, y_train)\n",
    "\n",
    "# fazer previsões nos dados de teste\n",
    "y_pred = rf_model.predict(X_test)\n",
    "\n",
    "# calcular a acurácia e f-measure do modelo nos dados de teste\n",
    "accuracy = accuracy_score(y_test, y_pred)\n",
    "f_measure = f1_score(y_test, y_pred)\n",
    "\n",
    "# resultados\n",
    "print(f\"A acurácia do modelo de Random Forest é de {accuracy}\")\n",
    "print(f\"A F-measure do modelo de Random Forest é de {f_measure}\")"
   ]
  },
  {
   "cell_type": "code",
   "execution_count": null,
   "id": "8d46255a",
   "metadata": {},
   "outputs": [],
   "source": []
  }
 ],
 "metadata": {
  "kernelspec": {
   "display_name": "Python 3 (ipykernel)",
   "language": "python",
   "name": "python3"
  },
  "language_info": {
   "codemirror_mode": {
    "name": "ipython",
    "version": 3
   },
   "file_extension": ".py",
   "mimetype": "text/x-python",
   "name": "python",
   "nbconvert_exporter": "python",
   "pygments_lexer": "ipython3",
   "version": "3.9.13"
  }
 },
 "nbformat": 4,
 "nbformat_minor": 5
}
