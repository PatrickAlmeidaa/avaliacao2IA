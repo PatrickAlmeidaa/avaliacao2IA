{
 "cells": [
  {
   "cell_type": "markdown",
   "id": "c9ba8106",
   "metadata": {},
   "source": [
    "# Import das bibliotecas"
   ]
  },
  {
   "cell_type": "code",
   "execution_count": 9,
   "id": "f2d88303",
   "metadata": {},
   "outputs": [],
   "source": [
    "import pandas as pd\n",
    "from sklearn.model_selection import train_test_split\n",
    "from sklearn.metrics import accuracy_score"
   ]
  },
  {
   "cell_type": "markdown",
   "id": "926c591b",
   "metadata": {},
   "source": [
    "# Leitura dos dados"
   ]
  },
  {
   "cell_type": "code",
   "execution_count": 10,
   "id": "ba4af42d",
   "metadata": {},
   "outputs": [],
   "source": [
    "data_training = pd.read_csv('falencia-treinamento.csv', delimiter=';')\n",
    "data_test = pd.read_csv('falencia-teste.csv', delimiter=';')\n",
    "data_result = pd.read_csv('modelo-submissao.csv', delimiter=';')"
   ]
  },
  {
   "cell_type": "markdown",
   "id": "62205496",
   "metadata": {},
   "source": [
    "# Pré-Processamento dos dados"
   ]
  },
  {
   "cell_type": "code",
   "execution_count": 11,
   "id": "54bcfcea",
   "metadata": {},
   "outputs": [],
   "source": [
    "X_train, X_test, y_train, y_test = train_test_split(data_training.drop('Resultado', axis=1), data_training['Resultado'], test_size=0.2, random_state=42)"
   ]
  },
  {
   "cell_type": "markdown",
   "id": "463d1c85",
   "metadata": {},
   "source": [
    "# Regressão Logística"
   ]
  },
  {
   "cell_type": "code",
   "execution_count": 12,
   "id": "5e942e77",
   "metadata": {},
   "outputs": [
    {
     "name": "stdout",
     "output_type": "stream",
     "text": [
      "A acurácia do modelo de regressão logística é de 0.7375\n"
     ]
    }
   ],
   "source": [
    "from sklearn.linear_model import LogisticRegression\n",
    "\n",
    "logistic_model = LogisticRegression(max_iter=500)\n",
    "logistic_model.fit(X_train, y_train)\n",
    "\n",
    "y_pred = logistic_model.predict(X_test)\n",
    "\n",
    "# Calcula a acurácia do modelo nos dados de teste extraído dos de treinamento\n",
    "accuracy = accuracy_score(y_test, y_pred)\n",
    "print(f'A acurácia do modelo de regressão logística é de {accuracy}')"
   ]
  },
  {
   "cell_type": "markdown",
   "id": "460d4c54",
   "metadata": {},
   "source": [
    "# Árvore de Decisão"
   ]
  },
  {
   "cell_type": "code",
   "execution_count": null,
   "id": "0055eca0",
   "metadata": {},
   "outputs": [],
   "source": [
    "from sklearn.tree import DecisionTreeClassifier\n",
    "\n",
    "# criar um modelo de árvore de decisão com profundidade máxima de 3\n",
    "tree_model = DecisionTreeClassifier(max_depth=3)\n",
    "\n",
    "# ajustar o modelo aos dados de treinamento\n",
    "tree_model.fit(X_train, y_train)\n",
    "\n",
    "# fazer previsões nos dados de teste\n",
    "y_pred = tree_model.predict(X_test)\n",
    "\n",
    "# calcular a acurácia do modelo nos dados de teste\n",
    "accuracy = accuracy_score(y_test, y_pred)\n",
    "\n",
    "# imprimir a acurácia\n",
    "print(f\"A acurácia do modelo de árvore de decisão é de {accuracy}\")"
   ]
  },
  {
   "cell_type": "markdown",
   "id": "bdbeaa51",
   "metadata": {},
   "source": [
    "# Random Forest"
   ]
  }
 ],
 "metadata": {
  "kernelspec": {
   "display_name": "Python 3 (ipykernel)",
   "language": "python",
   "name": "python3"
  },
  "language_info": {
   "codemirror_mode": {
    "name": "ipython",
    "version": 3
   },
   "file_extension": ".py",
   "mimetype": "text/x-python",
   "name": "python",
   "nbconvert_exporter": "python",
   "pygments_lexer": "ipython3",
   "version": "3.9.13"
  }
 },
 "nbformat": 4,
 "nbformat_minor": 5
}
