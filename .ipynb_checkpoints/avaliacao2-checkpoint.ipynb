{
 "cells": [
  {
   "cell_type": "markdown",
   "id": "3d40e6ed",
   "metadata": {},
   "source": [
    "# Import das bibliotecas"
   ]
  },
  {
   "cell_type": "code",
   "execution_count": 253,
   "id": "f2d88303",
   "metadata": {},
   "outputs": [],
   "source": [
    "import pandas as pd\n",
    "from sklearn.model_selection import train_test_split\n",
    "from sklearn.metrics import accuracy_score\n",
    "from sklearn.metrics import f1_score\n",
    "from sklearn.linear_model import LogisticRegression\n",
    "from sklearn.tree import DecisionTreeClassifier\n",
    "from sklearn.ensemble import RandomForestClassifier\n",
    "from sklearn.metrics import accuracy_score\n",
    "import matplotlib.pyplot as plt\n",
    "import numpy as np\n",
    "from imblearn.over_sampling import SMOTE\n",
    "from sklearn.feature_selection import SelectKBest\n",
    "from sklearn.feature_selection import chi2\n",
    "from sklearn.feature_selection import RFE\n",
    "\n",
    "from sklearn.model_selection import KFold\n",
    "from sklearn.model_selection import RepeatedKFold"
   ]
  },
  {
   "cell_type": "markdown",
   "id": "499c7621",
   "metadata": {},
   "source": [
    "# Leitura dos dados"
   ]
  },
  {
   "cell_type": "code",
   "execution_count": 254,
   "id": "ba4af42d",
   "metadata": {},
   "outputs": [],
   "source": [
    "data_training = pd.read_csv('falencia-treinamento.csv', delimiter=';')\n",
    "data_test = pd.read_csv('falencia-teste.csv', delimiter=';')\n",
    "data_result = pd.read_csv('modelo-submissao.csv', delimiter=';')"
   ]
  },
  {
   "cell_type": "markdown",
   "id": "00d2efdf",
   "metadata": {},
   "source": [
    "# Declaração das métricas"
   ]
  },
  {
   "cell_type": "code",
   "execution_count": 255,
   "id": "045458ee",
   "metadata": {},
   "outputs": [],
   "source": [
    "accuracy_lr = 0\n",
    "accuracy_dt = 0\n",
    "accuracy_rf = 0\n",
    "f_measure_lr = 0\n",
    "f_measure_dt = 0\n",
    "f_measure_rf = 0"
   ]
  },
  {
   "cell_type": "markdown",
   "id": "2cce8ff3",
   "metadata": {},
   "source": [
    "# Expansão do conjunto de treinamento"
   ]
  },
  {
   "cell_type": "code",
   "execution_count": 256,
   "id": "345b3c1a",
   "metadata": {},
   "outputs": [],
   "source": [
    "data_training_copy = data_training.copy()\n",
    "data_training_expanded = pd.concat([data_training, data_training_copy])"
   ]
  },
  {
   "cell_type": "markdown",
   "id": "5db3e23a",
   "metadata": {},
   "source": [
    "# Divisão do conjunto de dados"
   ]
  },
  {
   "cell_type": "code",
   "execution_count": 257,
   "id": "54bcfcea",
   "metadata": {},
   "outputs": [],
   "source": [
    "# Divisão do conjunto de dados falencia-treinamento em dados de treinamento e dados de teste. Divisão de 70% treinamento e 30% testes\n",
    "X_train_init, X_test_init, y_train_init, y_test_init = train_test_split(data_training_expanded.drop('Resultado', axis=1), data_training_expanded['Resultado'], test_size=0.3, random_state=42)"
   ]
  },
  {
   "cell_type": "markdown",
   "id": "96a1efc3",
   "metadata": {},
   "source": [
    "# Técnica Smote"
   ]
  },
  {
   "cell_type": "code",
   "execution_count": 258,
   "id": "4c4f996b",
   "metadata": {},
   "outputs": [],
   "source": [
    "# Técnica SMOTE para aplicar o Oversampling (criação de cópias da classe minoritária para que as classes fiquem equilibradas)\n",
    "smote = SMOTE(random_state=42)\n",
    "X_train_resampled, y_train_resampled = smote.fit_resample(X_train_init, y_train_init)"
   ]
  },
  {
   "cell_type": "markdown",
   "id": "0e0b81ab",
   "metadata": {},
   "source": [
    "# Validação Cruzada (KFold)"
   ]
  },
  {
   "cell_type": "code",
   "execution_count": 259,
   "id": "efff56fc",
   "metadata": {},
   "outputs": [],
   "source": [
    "# # Nova divisão treino e teste para tentar melhorar os resultados\n",
    "# kf = KFold(n_splits=5, shuffle=True, random_state=10)\n",
    "\n",
    "# for train_index, test_index in kf.split(X_train_resampled):\n",
    "#     # Split data into train and test sets\n",
    "#     X_train, X_test = X_train_resampled.iloc[train_index], X_train_resampled.iloc[test_index]\n",
    "#     y_train, y_test = y_train_resampled.iloc[train_index], y_train_resampled.iloc[test_index]"
   ]
  },
  {
   "cell_type": "markdown",
   "id": "fd219e0d",
   "metadata": {},
   "source": [
    "# Validação Cruzada (RepeatedKFold"
   ]
  },
  {
   "cell_type": "code",
   "execution_count": 260,
   "id": "94593515",
   "metadata": {},
   "outputs": [
    {
     "ename": "NameError",
     "evalue": "name 'RepeatedKFold' is not defined",
     "output_type": "error",
     "traceback": [
      "\u001b[1;31m---------------------------------------------------------------------------\u001b[0m",
      "\u001b[1;31mNameError\u001b[0m                                 Traceback (most recent call last)",
      "\u001b[1;32m~\\AppData\\Local\\Temp\\ipykernel_10632\\3014140428.py\u001b[0m in \u001b[0;36m<module>\u001b[1;34m\u001b[0m\n\u001b[1;32m----> 1\u001b[1;33m \u001b[0mkf\u001b[0m \u001b[1;33m=\u001b[0m \u001b[0mRepeatedKFold\u001b[0m\u001b[1;33m(\u001b[0m\u001b[0mn_splits\u001b[0m\u001b[1;33m=\u001b[0m\u001b[1;36m10\u001b[0m\u001b[1;33m,\u001b[0m \u001b[0mn_repeats\u001b[0m\u001b[1;33m=\u001b[0m\u001b[1;36m10\u001b[0m\u001b[1;33m,\u001b[0m \u001b[0mrandom_state\u001b[0m\u001b[1;33m=\u001b[0m\u001b[1;36m42\u001b[0m\u001b[1;33m)\u001b[0m\u001b[1;33m\u001b[0m\u001b[1;33m\u001b[0m\u001b[0m\n\u001b[0m\u001b[0;32m      2\u001b[0m \u001b[1;33m\u001b[0m\u001b[0m\n\u001b[0;32m      3\u001b[0m \u001b[1;32mfor\u001b[0m \u001b[0mtrain_index\u001b[0m\u001b[1;33m,\u001b[0m \u001b[0mtest_index\u001b[0m \u001b[1;32min\u001b[0m \u001b[0mkf\u001b[0m\u001b[1;33m.\u001b[0m\u001b[0msplit\u001b[0m\u001b[1;33m(\u001b[0m\u001b[0mX_train_resampled\u001b[0m\u001b[1;33m)\u001b[0m\u001b[1;33m:\u001b[0m\u001b[1;33m\u001b[0m\u001b[1;33m\u001b[0m\u001b[0m\n\u001b[0;32m      4\u001b[0m     \u001b[1;31m# Split data into train and test sets\u001b[0m\u001b[1;33m\u001b[0m\u001b[1;33m\u001b[0m\u001b[0m\n\u001b[0;32m      5\u001b[0m     \u001b[0mX_train\u001b[0m\u001b[1;33m,\u001b[0m \u001b[0mX_test\u001b[0m \u001b[1;33m=\u001b[0m \u001b[0mX_res\u001b[0m\u001b[1;33m.\u001b[0m\u001b[0miloc\u001b[0m\u001b[1;33m[\u001b[0m\u001b[0mtrain_index\u001b[0m\u001b[1;33m]\u001b[0m\u001b[1;33m,\u001b[0m \u001b[0mX_res\u001b[0m\u001b[1;33m.\u001b[0m\u001b[0miloc\u001b[0m\u001b[1;33m[\u001b[0m\u001b[0mtest_index\u001b[0m\u001b[1;33m]\u001b[0m\u001b[1;33m\u001b[0m\u001b[1;33m\u001b[0m\u001b[0m\n",
      "\u001b[1;31mNameError\u001b[0m: name 'RepeatedKFold' is not defined"
     ]
    }
   ],
   "source": [
    "kf = RepeatedKFold(n_splits=10, n_repeats=10, random_state=42)\n",
    "\n",
    "for train_index, test_index in kf.split(X_train_resampled):\n",
    "    # Split data into train and test sets\n",
    "    X_train, X_test = X_res.iloc[train_index], X_res.iloc[test_index]\n",
    "    y_train, y_test = y_res.iloc[train_index], y_res.iloc[test_index]"
   ]
  },
  {
   "cell_type": "markdown",
   "id": "c9905fba",
   "metadata": {},
   "source": [
    "# Seleção Univariada"
   ]
  },
  {
   "cell_type": "code",
   "execution_count": 246,
   "id": "1a862e82",
   "metadata": {},
   "outputs": [],
   "source": [
    "# selector = SelectKBest(chi2, k=15)\n",
    "# X_new = selector.fit_transform(X_train_resampled, y_train_resampled)\n",
    "\n",
    "# # Obtém os índices dos recursos selecionados\n",
    "# selected_features = selector.get_support()\n",
    "\n",
    "# # Obtém os nomes dos recursos selecionados\n",
    "# selected_feature_names = X_train.columns[selected_features]\n",
    "\n",
    "# # Substitui as variáveis X_train e X_test pelos recursos selecionados\n",
    "# X_train_selected = X_train[selected_feature_names]\n",
    "# X_test_selected = X_test[selected_feature_names]"
   ]
  },
  {
   "cell_type": "markdown",
   "id": "7b05d1d5",
   "metadata": {},
   "source": [
    "# Recursive Feature Elimination (RFE)"
   ]
  },
  {
   "cell_type": "code",
   "execution_count": 247,
   "id": "e0319a49",
   "metadata": {},
   "outputs": [],
   "source": [
    "# # Cria um objeto RFE para selecionar 10 atributos\n",
    "# rfe = RFE(estimator=logistic_model, n_features_to_select=10)\n",
    "\n",
    "# # Ajusta o modelo aos dados de treinamento resampleados e seleciona os atributos\n",
    "# rfe.fit(X_train_resampled, y_train_resampled)\n",
    "\n",
    "# # Obtém os índices dos recursos selecionados\n",
    "# selected_features = rfe.support_\n",
    "\n",
    "# # Obtém os nomes dos recursos selecionados\n",
    "# selected_feature_names = X_train.columns[selected_features]\n",
    "\n",
    "# # Substitui as variáveis X_train e X_test pelos recursos selecionados pela RFE\n",
    "# X_train_selected = X_train[selected_feature_names]\n",
    "# X_test_selected = X_test[selected_feature_names]"
   ]
  },
  {
   "cell_type": "markdown",
   "id": "3a50ef0f",
   "metadata": {},
   "source": [
    "# Regressão Logística"
   ]
  },
  {
   "cell_type": "code",
   "execution_count": 248,
   "id": "5e942e77",
   "metadata": {},
   "outputs": [],
   "source": [
    "def logistic_regression():\n",
    "    # Cria um modelo de regressão logística\n",
    "    logistic_model = LogisticRegression(max_iter = 1000)\n",
    "    \n",
    "    # Ajusta o modelo aos dados de treinamento\n",
    "    logistic_model.fit(X_train, y_train)\n",
    "    \n",
    "    # Faz previsões nos dados de teste\n",
    "    y_pred_lr = logistic_model.predict(X_test)\n",
    "\n",
    "    # Calcula a acurácia do modelo nos dados de teste extraído dos de treinamento\n",
    "    accuracy_lr = accuracy_score(y_test, y_pred_lr)\n",
    "    f_measure_lr = f1_score(y_test, y_pred_lr)\n",
    "\n",
    "    # Exibe os resultados\n",
    "    print(\"Regressão Logística\")\n",
    "    print(f\"Acurácia: {accuracy_lr}\")\n",
    "    print(f\"F-measure: {f_measure_lr}\")\n",
    "    \n",
    "    return accuracy_lr, f_measure_lr"
   ]
  },
  {
   "cell_type": "markdown",
   "id": "89d23712",
   "metadata": {},
   "source": [
    "# Árvore de Decisão"
   ]
  },
  {
   "cell_type": "code",
   "execution_count": 249,
   "id": "97dab29e",
   "metadata": {},
   "outputs": [],
   "source": [
    "def decision_tree():\n",
    "    # Cria um modelo de árvore de decisão com profundidade máxima de 3\n",
    "    tree_model = DecisionTreeClassifier(min_samples_split=3)\n",
    "\n",
    "    # Ajusta o modelo aos dados de treinamento\n",
    "    tree_model.fit(X_train, y_train)\n",
    "\n",
    "    # Faz previsões nos dados de teste\n",
    "    y_pred_dt = tree_model.predict(X_test)\n",
    "\n",
    "    # Calcula a acurácia e f-measure do modelo nos dados de teste\n",
    "    accuracy_dt = accuracy_score(y_test, y_pred_dt)\n",
    "    f_measure_dt = f1_score(y_test, y_pred_dt)\n",
    "\n",
    "    # Exibe os resultados\n",
    "    print('\\nÁrvore de Decisão')\n",
    "    print(f\"Acurácia: {accuracy_dt}\")\n",
    "    print(f\"F-measure: {f_measure_dt}\")\n",
    "    \n",
    "    return accuracy_dt, f_measure_dt"
   ]
  },
  {
   "cell_type": "markdown",
   "id": "8769ba1a",
   "metadata": {},
   "source": [
    "# Random Forest"
   ]
  },
  {
   "cell_type": "code",
   "execution_count": 250,
   "id": "851445b5",
   "metadata": {},
   "outputs": [],
   "source": [
    "def random_forest():\n",
    "    # Cria um modelo de Random Forest com 100 árvores de decisão\n",
    "    rf_model = RandomForestClassifier(n_estimators=100)\n",
    "\n",
    "    # Ajusta o modelo aos dados de treinamento\n",
    "    rf_model.fit(X_train, y_train)\n",
    "\n",
    "    # Faz previsões nos dados de teste\n",
    "    y_pred_rf = rf_model.predict(X_test)\n",
    "\n",
    "    # Calcula a acurácia e f-measure do modelo nos dados de teste\n",
    "    accuracy_rf = accuracy_score(y_test, y_pred_rf)\n",
    "    f_measure_rf = f1_score(y_test, y_pred_rf)\n",
    "\n",
    "    # Exibe os resultados\n",
    "    print('\\nRandom Forest')\n",
    "    print(f\"Acurácia: {accuracy_rf}\")\n",
    "    print(f\"F-measure: {f_measure_rf}\")\n",
    "    \n",
    "    return accuracy_rf, f_measure_rf"
   ]
  },
  {
   "cell_type": "markdown",
   "id": "e0b65fc6",
   "metadata": {},
   "source": [
    "# Resultados"
   ]
  },
  {
   "cell_type": "code",
   "execution_count": 251,
   "id": "c29b075d",
   "metadata": {},
   "outputs": [
    {
     "name": "stdout",
     "output_type": "stream",
     "text": [
      "Regressão Logística\n",
      "Acurácia: 0.7012987012987013\n",
      "F-measure: 0.7160493827160493\n",
      "\n",
      "Árvore de Decisão\n",
      "Acurácia: 0.8896103896103896\n",
      "F-measure: 0.89171974522293\n",
      "\n",
      "Random Forest\n",
      "Acurácia: 0.935064935064935\n",
      "F-measure: 0.9375000000000001\n"
     ]
    }
   ],
   "source": [
    "accuracy_lr, f_measure_lr = logistic_regression()\n",
    "accuracy_dt, f_measure_dt = decision_tree()\n",
    "accuracy_rf, f_measure_rf = random_forest()"
   ]
  },
  {
   "cell_type": "markdown",
   "id": "e968b96b",
   "metadata": {},
   "source": [
    "# Avaliação dos modelos"
   ]
  },
  {
   "cell_type": "code",
   "execution_count": 252,
   "id": "6091bd8e",
   "metadata": {},
   "outputs": [
    {
     "data": {
      "image/png": "[encoded data removed]",
      "text/plain": [
       "<Figure size 640x480 with 1 Axes>"
      ]
     },
     "metadata": {},
     "output_type": "display_data"
    }
   ],
   "source": [
    "# definir os rótulos do eixo x e os valores do eixo y\n",
    "labels = ['Regressão Logística', 'Árvore de Decisão', 'Random Forest']\n",
    "accuracy_values = [accuracy_lr, accuracy_dt, accuracy_rf]\n",
    "f_measure_values = [f_measure_lr, f_measure_dt, f_measure_rf]\n",
    "\n",
    "# definir a largura das barras\n",
    "bar_width = 0.35\n",
    "\n",
    "# definir a posição das barras no eixo x\n",
    "x = np.arange(len(labels))\n",
    "\n",
    "# criar o gráfico de barras\n",
    "fig, ax = plt.subplots()\n",
    "rects1 = ax.bar(x - bar_width/2, accuracy_values, bar_width, label='Acurácia')\n",
    "rects2 = ax.bar(x + bar_width/2, f_measure_values, bar_width, label='F-measure')\n",
    "\n",
    "# adicionar rótulos, títulos e legendas ao gráfico\n",
    "ax.set_ylabel('Métrica')\n",
    "ax.set_title('Comparação de métricas entre modelos')\n",
    "ax.set_xticks(x)\n",
    "ax.set_xticklabels(labels)\n",
    "ax.legend()\n",
    "\n",
    "# exibir o gráfico\n",
    "plt.show()"
   ]
  },
  {
   "cell_type": "code",
   "execution_count": null,
   "id": "a306f66e",
   "metadata": {},
   "outputs": [],
   "source": []
  },
  {
   "cell_type": "code",
   "execution_count": null,
   "id": "2b03172f",
   "metadata": {},
   "outputs": [],
   "source": []
  },
  {
   "cell_type": "code",
   "execution_count": null,
   "id": "4f626734",
   "metadata": {},
   "outputs": [],
   "source": []
  }
 ],
 "metadata": {
  "kernelspec": {
   "display_name": "Python 3 (ipykernel)",
   "language": "python",
   "name": "python3"
  },
  "language_info": {
   "codemirror_mode": {
    "name": "ipython",
    "version": 3
   },
   "file_extension": ".py",
   "mimetype": "text/x-python",
   "name": "python",
   "nbconvert_exporter": "python",
   "pygments_lexer": "ipython3",
   "version": "3.9.13"
  }
 },
 "nbformat": 4,
 "nbformat_minor": 5
}
